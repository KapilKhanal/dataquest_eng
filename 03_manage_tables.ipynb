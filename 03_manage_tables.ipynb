{
 "cells": [
  {
   "cell_type": "markdown",
   "metadata": {},
   "source": [
    "### These are exercises done as part of <a href = \"www.dataquest.io\"> DataQuest</a>'s Data Engineer Path\n",
    "This is not replicated for commercial use; strictly personal development.<br>\n",
    "All exercises are (c) DataQuest, with slight modifications so they use my PostGres server on my localhost"
   ]
  },
  {
   "cell_type": "markdown",
   "metadata": {},
   "source": [
    "> In the previous mission we learned about different datatypes, the benefit of a reduced table size, and how to guard against corrupted data. We also learned how to create a table from scratch and to use the proper datatypes for the data we would be loading in. Sometimes, though, we have to work with already created tables and somehow rework them with new requirements for our datasets.\n",
    ">\n",
    ">DataQuest"
   ]
  },
  {
   "cell_type": "markdown",
   "metadata": {},
   "source": [
    "#### Managing Tables Mission\n",
    "<b>1.  </b>Instructions:\n",
    "- Using the provided `cur` object, execute the `ALTER TABLE` query to rename the `old_ign_reviews` table to `ign_reviews`.\n",
    "- Commit your changes.\n",
    "- Execute the `SELECT` query from the example on the table `ign_reviews`.\n",
    "- Call `print()` on the `cur.description` variable."
   ]
  },
  {
   "cell_type": "code",
   "execution_count": 25,
   "metadata": {
    "collapsed": false
   },
   "outputs": [
    {
     "name": "stdout",
     "output_type": "stream",
     "text": [
      "(Column(name='index', type_code=20, display_size=None, internal_size=8, precision=None, scale=None, null_ok=None), Column(name='update', type_code=1114, display_size=None, internal_size=8, precision=None, scale=None, null_ok=None), Column(name='available', type_code=23, display_size=None, internal_size=4, precision=None, scale=None, null_ok=None), Column(name='free', type_code=23, display_size=None, internal_size=4, precision=None, scale=None, null_ok=None), Column(name='total', type_code=23, display_size=None, internal_size=4, precision=None, scale=None, null_ok=None), Column(name='name', type_code=1042, display_size=None, internal_size=55, precision=None, scale=None, null_ok=None), Column(name='long', type_code=700, display_size=None, internal_size=4, precision=None, scale=None, null_ok=None), Column(name='lat', type_code=700, display_size=None, internal_size=4, precision=None, scale=None, null_ok=None))\n"
     ]
    }
   ],
   "source": [
    "import psycopg2\n",
    "conn = psycopg2.connect(\"dbname=valenbisi2018 user=nmolivo\")\n",
    "cur = conn.cursor()\n",
    "cur.execute('ALTER TABLE vbstatic RENAME TO staticvb')\n",
    "conn.commit()\n",
    "cur.execute('SELECT * FROM staticvb LIMIT 0')\n",
    "print(cur.description)\n",
    "conn.close()"
   ]
  },
  {
   "cell_type": "code",
   "execution_count": 21,
   "metadata": {
    "collapsed": false
   },
   "outputs": [
    {
     "ename": "InternalError",
     "evalue": "current transaction is aborted, commands ignored until end of transaction block\n",
     "output_type": "error",
     "traceback": [
      "\u001b[0;31m---------------------------------------------------------------------------\u001b[0m",
      "\u001b[0;31mInternalError\u001b[0m                             Traceback (most recent call last)",
      "\u001b[0;32m<ipython-input-21-7385c16f4b0a>\u001b[0m in \u001b[0;36m<module>\u001b[0;34m()\u001b[0m\n\u001b[0;32m----> 1\u001b[0;31m \u001b[0mcur\u001b[0m\u001b[0;34m.\u001b[0m\u001b[0mexecute\u001b[0m\u001b[0;34m(\u001b[0m\u001b[0;34m'SELECT column_name, data_type FROM information_schema.columns WHERE table_name = staticvb ORDER BY ordinal_position'\u001b[0m\u001b[0;34m)\u001b[0m\u001b[0;34m\u001b[0m\u001b[0m\n\u001b[0m",
      "\u001b[0;31mInternalError\u001b[0m: current transaction is aborted, commands ignored until end of transaction block\n"
     ]
    }
   ],
   "source": [
    "cur.execute('SELECT column_name, data_type FROM information_schema.columns WHERE table_name = staticvb ORDER BY ordinal_position')"
   ]
  },
  {
   "cell_type": "code",
   "execution_count": null,
   "metadata": {
    "collapsed": true
   },
   "outputs": [],
   "source": []
  }
 ],
 "metadata": {
  "anaconda-cloud": {},
  "kernelspec": {
   "display_name": "Python [conda root]",
   "language": "python",
   "name": "conda-root-py"
  },
  "language_info": {
   "codemirror_mode": {
    "name": "ipython",
    "version": 3
   },
   "file_extension": ".py",
   "mimetype": "text/x-python",
   "name": "python",
   "nbconvert_exporter": "python",
   "pygments_lexer": "ipython3",
   "version": "3.5.2"
  }
 },
 "nbformat": 4,
 "nbformat_minor": 2
}
