{
 "cells": [
  {
   "cell_type": "markdown",
   "metadata": {},
   "source": [
    "### Optimizing Postgres Databases: Exploring Postgres Internals\n",
    "#### These are exercises done as part of <a href = \"www.dataquest.io\"> DataQuest</a>'s Data Engineer Path\n",
    "This is not replicated for commercial use; strictly personal development.<br>\n",
    "All exercises are (c) DataQuest, with slight modifications so they use my PostGres server on my localhost"
   ]
  },
  {
   "cell_type": "markdown",
   "metadata": {},
   "source": [
    "#### Exploring Postgres Internals Mission\n",
    "<b>1.  </b>Instructions:\n",
    "- Import the `psycopg2` library.\n",
    "- Connect to the `dq` database with the user `hud_admin` and the password `eRqg123EEkl` using the keyword arguments.\n",
    "- Use the `print` function to display the Connection object."
   ]
  },
  {
   "cell_type": "markdown",
   "metadata": {},
   "source": [
    "<b>2.  </b>Instructions:\n",
    "- Use the provided `cur` object.\n",
    "- Using the `SELECT` query, grab the `table_name` column from the `information_schema.tables` table with the `ORDER BY` option on the `table_name` column.\n",
    "- Fetch all the results and assign them to the variable `table_names`.\n",
    "- Loop through `table_names`:\n",
    "- Print each `table_name` from the query."
   ]
  },
  {
   "cell_type": "markdown",
   "metadata": {},
   "source": [
    "<b>3.  </b>Instructions:\n",
    "- Use the provided `cur` object.\n",
    "- Using the `SELECT` query, grab the `table_name` column from the `information_schema.tables` table.\n",
    "    - Find user created by filtering the query on the `table_schema` column.\n",
    "    - `ORDER BY` the `table_name` again.\n",
    "- Loop through `cur.fetchall()` and print each `table_name` from the query."
   ]
  },
  {
   "cell_type": "markdown",
   "metadata": {},
   "source": [
    "<b>4.  </b>Instructions:\n",
    "- Import `AsIs` from `psycopg2.extensions`.\n",
    "- Within the loop for `cur.fetchall()` for each table name:\n",
    "    - Run a `SELECT` query with the table variable using `AsIs`.\n",
    "    - Print the `cur.description` attribute.\n",
    "    - Print a black space to seperate the descriptions at the end of each loop."
   ]
  },
  {
   "cell_type": "markdown",
   "metadata": {},
   "source": [
    "<b>5.  </b>Instructions:\n",
    "- Use the provided `cur` object.\n",
    "- Using `execute()`, `SELECT` from the `pg_catalog.pg_type`, choose two columns that can map an integer type code to a human - readable string.\n",
    "- Create a dict and assign it to the variable `type_mappings`.\n",
    "- Loop through the returned `SELECT` query and map the integer type code to the string."
   ]
  },
  {
   "cell_type": "markdown",
   "metadata": {},
   "source": [
    "<b>6.  </b>Instructions:\n",
    "- Use the provided `cur`, `type_mappings`, and `table_names` objects.\n",
    "- Create a dict and assign it to the variable `readable_description`.\n",
    "- Loop through the `table_names` with the table variable and do the following:\n",
    "    - Get the description attribute for the given table.\n",
    "    - Map the name of the table to a dictionary with a columns key.\n",
    "    - Recreate the columns list from the screen example by iterating through the description, and mapping the appropriate types.\n",
    "- Print the `readable_description` dictionary at the end."
   ]
  },
  {
   "cell_type": "markdown",
   "metadata": {},
   "source": [
    "<b>7.  </b>Instructions:\n",
    "- Use the provided `cur` object and `AsIs` class.\n",
    "- Loop through the `readable_description` keys:\n",
    "    - Fetch the value of each table's row count and assign it to a `total` key for that table.\n",
    "- Print the `readable_description` dictionary at the end."
   ]
  },
  {
   "cell_type": "markdown",
   "metadata": {},
   "source": [
    "<b>8.  </b>Instructions:\n",
    "- Use the provided `cur` object and `AsIs` class.\n",
    "- Loop through the `readable_description` keys and run the following:\n",
    "    - Select the first 100 rows with `SELECT ... LIMIT` using `execute()` and `AsIs`.\n",
    "    - Fetch the all the rows and assign it to the `readable_description` dictionary for the given table using the `sample_rows` key.\n",
    "- Print the `readable_description` dictionary at the end."
   ]
  }
 ],
 "metadata": {
  "anaconda-cloud": {},
  "kernelspec": {
   "display_name": "Python [conda root]",
   "language": "python",
   "name": "conda-root-py"
  },
  "language_info": {
   "codemirror_mode": {
    "name": "ipython",
    "version": 3
   },
   "file_extension": ".py",
   "mimetype": "text/x-python",
   "name": "python",
   "nbconvert_exporter": "python",
   "pygments_lexer": "ipython3",
   "version": "3.5.2"
  }
 },
 "nbformat": 4,
 "nbformat_minor": 2
}
