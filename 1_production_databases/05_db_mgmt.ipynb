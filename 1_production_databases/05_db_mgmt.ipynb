{
 "cells": [
  {
   "cell_type": "markdown",
   "metadata": {},
   "source": [
    "### Postgres for Data Engineers: User and Database Management\n",
    "#### These are exercises done as part of <a href = \"www.dataquest.io\"> DataQuest</a>'s Data Engineer Path\n",
    "This is not replicated for commercial use; strictly personal development.<br>\n",
    "All exercises are (c) DataQuest, with slight modifications so they use my PostGres server on my localhost"
   ]
  },
  {
   "cell_type": "markdown",
   "metadata": {
    "collapsed": true
   },
   "source": [
    "#### User and Database Management Mission\n",
    "<b>1.  </b>Instructions:\n",
    "- Import the `psycopg2` library.\n",
    "- Connect to the `dq` database with the user postgres and the password abc123 using the keyword arguments.\n",
    "- Use the `print` function to display the Connection object."
   ]
  },
  {
   "cell_type": "code",
   "execution_count": 2,
   "metadata": {
    "collapsed": true
   },
   "outputs": [],
   "source": [
    "import psycopg2"
   ]
  },
  {
   "cell_type": "code",
   "execution_count": 1,
   "metadata": {
    "collapsed": false
   },
   "outputs": [
    {
     "name": "stdout",
     "output_type": "stream",
     "text": [
      "<connection object at 0x105fb1d18; dsn: 'password=xxx dbname=valenbisi2018 user=nmolivo', closed: 0>\n"
     ]
    }
   ],
   "source": [
    "conn = psycopg2.connect(dbname=\"valenbisi2018\", user=\"nmolivo\", password = \"MYPASSWORD\")\n",
    "print(conn)"
   ]
  },
  {
   "cell_type": "markdown",
   "metadata": {},
   "source": [
    "<font color = 'blue'> If you recall, I created user `vbuser` in mission one. So in order to complete this exercise, I delete it in order to recreate it again.</font><br>\n",
    "```REASSIGN OWNED BY old_user TO user;\n",
    "DROP OWNED BY old_user;\n",
    "DROP USER old_user;```"
   ]
  },
  {
   "cell_type": "markdown",
   "metadata": {},
   "source": [
    "<b>2.  </b>Instructions:\n",
    "- Using `psycopg2`, connect to the `valenbisi2018` database with the user `nmolivo` <i>[and the password `password` using the keyword arguments.]</i>\n",
    "- Create cursor object using the `.cursor()` method.\n",
    "- Create a new user `vbuser` that has the following options:\n",
    "    - Has a password with the value somepassword.\n",
    "    - Not a superuser.\n",
    "- Commit the transaction."
   ]
  },
  {
   "cell_type": "code",
   "execution_count": 4,
   "metadata": {
    "collapsed": false
   },
   "outputs": [],
   "source": [
    "conn = psycopg2.connect(dbname = \"valenbisi2018\", user = \"nmolivo\")\n",
    "cur = conn.cursor()\n",
    "cur.execute(\"CREATE USER vbuser WITH PASSWORD 'vbisi2018' NOSUPERUSER\")\n",
    "conn.commit()"
   ]
  },
  {
   "cell_type": "markdown",
   "metadata": {},
   "source": [
    "<b>3.  </b>Instructions:\n",
    "- Use the created Cursor object using the variable `cur`.\n",
    "- Revoke all privileges from user `vbuser` on the table `vbstatic`.\n",
    "- Commit the transaction."
   ]
  },
  {
   "cell_type": "code",
   "execution_count": 8,
   "metadata": {
    "collapsed": false
   },
   "outputs": [],
   "source": [
    "conn = psycopg2.connect(dbname = \"valenbisi2018\", user = \"nmolivo\")\n",
    "cur = conn.cursor()\n",
    "cur.execute('REVOKE ALL ON vbstatic FROM vbuser;')\n",
    "conn.commit()"
   ]
  },
  {
   "cell_type": "markdown",
   "metadata": {},
   "source": [
    "<b>4.  </b>Instructions:\n",
    "- Use the created Cursor object using the variable `cur`.\n",
    "- Grant the `SELECT` privilege to user `vbuser` on the table `vbstatic`.\n",
    "- Commit the transaction."
   ]
  },
  {
   "cell_type": "code",
   "execution_count": 10,
   "metadata": {
    "collapsed": true
   },
   "outputs": [],
   "source": [
    "conn = psycopg2.connect(dbname=\"valenbisi2018\", user=\"nmolivo\")\n",
    "cur = conn.cursor()\n",
    "cur.execute('GRANT SELECT ON vbstatic TO vbuser')\n",
    "conn.commit()"
   ]
  },
  {
   "cell_type": "markdown",
   "metadata": {},
   "source": [
    "<b>5.  </b>Instructions:\n",
    "- Use the created Cursor object using the variable `cur`.\n",
    "- Create a `readonly` group by doing the following:\n",
    "    - Create a `NOLOGIN` group named readonly.\n",
    "    - Revoke all privilges from the group on `user_accounts`.\n",
    "    - Grant `SELECT` to the group on `user_accounts`.\n",
    "- Assign `data_viewer` to the `readonly` group.\n",
    "- Commit the transaction."
   ]
  },
  {
   "cell_type": "code",
   "execution_count": 4,
   "metadata": {
    "collapsed": false
   },
   "outputs": [],
   "source": [
    "conn = psycopg2.connect(dbname=\"valenbisi2018\", user=\"nmolivo\")\n",
    "cur = conn.cursor()\n",
    "cur.execute('CREATE GROUP readonly NOLOGIN')\n",
    "cur.execute('REVOKE ALL ON vbstatic FROM readonly')\n",
    "cur.execute('GRANT SELECT ON vbstatic TO readonly')\n",
    "cur.execute('GRANT readonly TO vbuser')\n",
    "conn.commit()"
   ]
  },
  {
   "cell_type": "markdown",
   "metadata": {},
   "source": [
    "<b>6.  </b>Instructions:\n",
    "- Use the created Cursor object using the variable `cur`.\n",
    "- Create a database called `accounts` where the owner is the user `data_viewer`.\n",
    "- Don't commit the transaction."
   ]
  },
  {
   "cell_type": "code",
   "execution_count": 5,
   "metadata": {
    "collapsed": true
   },
   "outputs": [],
   "source": [
    "conn = psycopg2.connect(dbname=\"valenbisi2018\", user=\"nmolivo\")\n",
    "# Connection must be set to autocommit.\n",
    "conn.autocommit = True\n",
    "cur = conn.cursor()\n",
    "cur.execute('CREATE DATABASE accounts OWNER vbuser')"
   ]
  },
  {
   "cell_type": "markdown",
   "metadata": {},
   "source": [
    "<b>7.  Putting it All Together:</b>\n",
    "- Use the created Cursor object using the variable `cur`.\n",
    "- Create a database called `top_secret`.\n",
    "- Reconnect to the `top_secret` database with the `dq` user.\n",
    "- Create a table in `top_secret` called `documents` following schema:\n",
    "    - `id` with `INT`.\n",
    "    - `info` with `TEXT`.\n",
    "- Create a group called `spies` with only the following privileges:\n",
    "    - `NOLOGIN`.\n",
    "    - Can only `INSERT`, `SELECT`, and `UPDATE` on documents.\n",
    "- Create a user named `double_o_7` with the following options:\n",
    "    - Can create a database.\n",
    "    - Password is 'shakennotstirred'.\n",
    "    - In group `spies`.\n",
    "- Commit the transaction.\n",
    "- Connect to the `top_secret` database using `psycopg2.connect()` and the user `double_o_7`.\n",
    "    - Assign the connection variable to `conn_007`."
   ]
  },
  {
   "cell_type": "markdown",
   "metadata": {},
   "source": [
    "```python\n",
    "conn = psycopg2.connect(dbname=\"dq\", user=\"dq\")\n",
    "conn.autocommit = True\n",
    "cur = conn.cursor()\n",
    "cur.execute(\"CREATE DATABASE top_secret OWNER dq\")\n",
    "conn = psycopg2.connect(dbname=\"top_secret\", user=\"dq\")\n",
    "cur = conn.cursor()\n",
    "cur.execute(\"\"\"\n",
    "CREATE TABLE documents(id INT, info TEXT);\n",
    "CREATE GROUP spies NOLOGIN;\n",
    "REVOKE ALL ON documents FROM spies;\n",
    "GRANT SELECT, INSERT, UPDATE ON documents TO spies;\n",
    "CREATE USER double_o_7 WITH CREATEDB PASSWORD 'shakennotstirred' IN GROUP spies;\n",
    "\"\"\")\n",
    "conn.commit()\n",
    "conn_007 = psycopg2.connect(dbname='top_secret', user='double_o_7', password='shakennotstirred')\n",
    "```"
   ]
  }
 ],
 "metadata": {
  "anaconda-cloud": {},
  "kernelspec": {
   "display_name": "Python [conda root]",
   "language": "python",
   "name": "conda-root-py"
  },
  "language_info": {
   "codemirror_mode": {
    "name": "ipython",
    "version": 3
   },
   "file_extension": ".py",
   "mimetype": "text/x-python",
   "name": "python",
   "nbconvert_exporter": "python",
   "pygments_lexer": "ipython3",
   "version": "3.5.2"
  }
 },
 "nbformat": 4,
 "nbformat_minor": 2
}
