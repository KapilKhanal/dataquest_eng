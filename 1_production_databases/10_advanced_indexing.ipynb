{
 "cells": [
  {
   "cell_type": "markdown",
   "metadata": {},
   "source": [
    "### Optimizing Postgres Databases: Advanced Indexing\n",
    "#### These are exercises done as part of <a href = \"www.dataquest.io\"> DataQuest</a>'s Data Engineer Path\n",
    "This is not replicated for commercial use; strictly personal development.<br>\n",
    "All exercises are (c) DataQuest, with slight modifications so they use my PostGres server on my localhost"
   ]
  },
  {
   "cell_type": "markdown",
   "metadata": {},
   "source": [
    ">In this mission, we will be expanding on the concept of indexing, and we will dive into Postgres' advanced indexing features. The features we will investigate are multiple column indexes, different types of indexes, and partial indexes. You can think of these concepts as adding options to an index.\n",
    ">\n",
    ">DataQuest"
   ]
  },
  {
   "cell_type": "markdown",
   "metadata": {},
   "source": [
    "<font color = 'blue'>Remember: Index Scans are more efficient than Sequential Scans of data.</font>"
   ]
  },
  {
   "cell_type": "markdown",
   "metadata": {},
   "source": [
    "#### Advanced Indexing\n",
    "<b>1.</b> Instructions:\n",
    "- Use the provided `cur` and `conn` object.\n",
    "- Create an index on `state` for the `homeless_by_coc` table.\n",
    "    - Commit your changes.\n",
    "- Run `EXPLAIN` on a select all from `homeless_by_coc`.\n",
    "    - Filter by `CA` on the indexed `state` column.\n",
    "    - Filter years greater than `1991-01-01` on the non-indexed `year` column.\n",
    "    - Format the output with `json`.\n",
    "- Call `.fetchall()` and pretty print the output."
   ]
  },
  {
   "cell_type": "markdown",
   "metadata": {},
   "source": [
    "```python\n",
    "conn = psycopg2.connect(dbname=\"dq\", user=\"hud_admin\", password=\"abc123\")\n",
    "cur = conn.cursor()\n",
    "\n",
    "#may be needed if you've already created the index.\n",
    "cur.execute(\"DROP INDEX state_idx\")\n",
    "conn.commit()\n",
    "\n",
    "cur.execute(\"CREATE INDEX state_idx ON homeless_by_coc(state)\")\n",
    "conn.commit()\n",
    "\n",
    "cur.execute(\"EXPLAIN (format json) SELECT * FROM homeless_by_coc WHERE state = 'CA' AND year > '1991-01-01'\")\n",
    "pp.pprint(cur.fetchall())\n",
    "```"
   ]
  },
  {
   "cell_type": "markdown",
   "metadata": {},
   "source": [
    "```\n",
    "[Output]\n",
    "[([{'Plan': {'Alias': 'homeless_by_coc',\n",
    "             'Filter': \"(year > '1991-01-01'::date)\",\n",
    "             'Node Type': 'Bitmap Heap Scan',\n",
    "             'Plan Rows': 9137,\n",
    "             'Plan Width': 88,\n",
    "             'Plans': [{'Index Cond': \"(state = 'CA'::bpchar)\",\n",
    "                        'Index Name': 'state_idx',\n",
    "                        'Node Type': 'Bitmap Index Scan',\n",
    "                        'Parent Relationship': 'Outer',\n",
    "                        'Plan Rows': 9137,\n",
    "                        'Plan Width': 0,\n",
    "                        'Startup Cost': 0.0,\n",
    "                        'Total Cost': 172.82}],\n",
    "             'Recheck Cond': \"(state = 'CA'::bpchar)\",\n",
    "             'Relation Name': 'homeless_by_coc',\n",
    "             'Startup Cost': 175.1,\n",
    "             'Total Cost': 1594.16}}],)]\n",
    "```"
   ]
  },
  {
   "cell_type": "markdown",
   "metadata": {},
   "source": [
    ">A `Bitmap Heap Scan` occurs when Postgres encounters two, or more, columns that contain an index. Our heap scan follows these steps:\n",
    ">\n",
    ">1. Run through the indexed column, state, and select all the rows that match CA. This is the `Bitmap Index Scan`.\n",
    ">2. Create a `Bitmap Heap` that is used as the temporary index.\n",
    ">3. Scan through the `Bitmap Heap`, and select all rows that have a year value greater than 1991-01-01. This is the `Bitmap Heap Scan`.\n",
    ">4. Return the results.\n",
    ">\n",
    ">This type of scan is more efficient than a pure Seq Scan, because the number of filtered rows in an index will always be less than or equal to the number of rows in the full table. Unfortunately, each filtered row must be sequentially searched again to find values that match the second filter (eg. year greater than 1991).\n",
    ">\n",
    ">We can eliminate the second sequential scan by adding an additional index on to another column in our table. This type of index is called a multi-column index. If you commonly run queries that filters two columns, then using a multi-column index can speed up your query times.\n",
    ">\n",
    ">DataQuest"
   ]
  },
  {
   "cell_type": "markdown",
   "metadata": {},
   "source": [
    "<b>2. </b> Instructions:\n",
    "- Use the provided `cur` and `conn` objects.\n",
    "- Create and drop a single column index for `state` on `homeless_by_coc` to test the benchmark.\n",
    "    - Run `EXPLAIN ANALYZE` on a select all from `homeless_by_coc`.\n",
    "    - Filter by CA on the indexed `state` column.\n",
    "    - Filter years greater than `1991-01-01` on the non-indexed year column.\n",
    "    - Format the output with `json`.\n",
    "    - Call `fetchall()` and pretty print the output.\n",
    "- Create a multi-column index on state and year on `homeless_by_coc` and run the same `EXPLAIN ANALYZE`.\n",
    "    - pretty print the output from `fetchall()`."
   ]
  },
  {
   "cell_type": "markdown",
   "metadata": {},
   "source": [
    "```python\n",
    "conn = psycopg2.connect(dbname=\"dq\", user=\"hud_admin\", password=\"abc123\")\n",
    "cur = conn.cursor()\n",
    "\n",
    "cur.execute(\"DROP INDEX IF EXISTS state_idx\")\n",
    "conn.commit()\n",
    "\n",
    "cur.execute(\"CREATE INDEX state_idx ON homeless_by_coc(state)\")\n",
    "conn.commit()\n",
    "\n",
    "cur.execute(\"EXPLAIN ANALYZE SELECT * FROM homeless_by_coc WHERE state = 'CA' AND year > '1991-01-01'\")\n",
    "pp.pprint(cur.fetchall())\n",
    "\n",
    "cur.execute(\"DROP INDEX IF EXISTS state_idx\")\n",
    "conn.commit()\n",
    "\n",
    "cur.execute(\"CREATE INDEX idx ON homeless_by_coc(state, year)\")\n",
    "cur.execute(\"EXPLAIN ANALYZE SELECT * FROM homeless_by_coc WHERE state = 'CA' AND year > '1991-01-01'\")\n",
    "pp.pprint(cur.fetchall())\n",
    "```"
   ]
  },
  {
   "cell_type": "markdown",
   "metadata": {},
   "source": [
    "```\n",
    "[Output]\n",
    "[('Bitmap Heap Scan on homeless_by_coc  (cost=169.17..1584.47 rows=8887 '\n",
    "  'width=88) (actual time=1.623..4.098 rows=8946 loops=1)',),\n",
    " (\"  Recheck Cond: (state = 'CA'::bpchar)\",),\n",
    " (\"  Filter: (year > '1991-01-01'::date)\",),\n",
    " ('  Heap Blocks: exact=142',),\n",
    " ('  ->  Bitmap Index Scan on state_idx  (cost=0.00..166.94 rows=8887 '\n",
    "  'width=0) (actual time=1.591..1.591 rows=8946 loops=1)',),\n",
    " (\"        Index Cond: (state = 'CA'::bpchar)\",),\n",
    " ('Planning time: 0.703 ms',),\n",
    " ('Execution time: 4.702 ms',)]\n",
    "[('Bitmap Heap Scan on homeless_by_coc  (cost=191.38..1606.69 rows=8887 '\n",
    "  'width=88) (actual time=0.964..2.200 rows=8946 loops=1)',),\n",
    " (\"  Recheck Cond: ((state = 'CA'::bpchar) AND (year > '1991-01-01'::date))\",),\n",
    " ('  Heap Blocks: exact=142',),\n",
    " ('  ->  Bitmap Index Scan on idx  (cost=0.00..189.16 rows=8887 width=0) '\n",
    "  '(actual time=0.942..0.942 rows=8946 loops=1)',),\n",
    " (\"        Index Cond: ((state = 'CA'::bpchar) AND (year > \"\n",
    "  \"'1991-01-01'::date))\",),\n",
    " ('Planning time: 0.161 ms',),\n",
    " ('Execution time: 2.569 ms',)]\n",
    "```"
   ]
  },
  {
   "cell_type": "markdown",
   "metadata": {},
   "source": [
    "<b>3.</b> Instructions:\n",
    "- Use the provided `cur` and `conn` objects.\n",
    "- Create a multi-column index on `state`, `year`, and `coc_number` on `homeless_by_coc`.\n",
    "    - Use the convention of naming your index by `snake_casing` the columns in order.\n",
    "- Commit the index with the `conn` object."
   ]
  },
  {
   "cell_type": "markdown",
   "metadata": {
    "collapsed": true
   },
   "source": [
    "```python\n",
    "conn = psycopg2.connect(dbname=\"dq\", user=\"hud_admin\", password=\"abc123\")\n",
    "cur = conn.cursor()\n",
    "\n",
    "cur.execute(\"CREATE INDEX state_year_coc_number_idx ON homeless_by_coc(state, year, coc_number)\")\n",
    "conn.commit()\n",
    "```"
   ]
  },
  {
   "cell_type": "markdown",
   "metadata": {},
   "source": [
    ">One or more indexes will impact the performance of your `INSERT` operations. As you increase the amount of indexes, the performance of `INSERT` decreases due to the additional index inserts. This can cause your table to fail when adding rows in a high load environment.\n",
    ">\n",
    ">Furthermore, because indexes are a separate structure, they also take up additional disk space in your database.\n",
    ">\n",
    ">DataQuest"
   ]
  },
  {
   "cell_type": "markdown",
   "metadata": {},
   "source": [
    "<b>4. </b>Instructions:\n",
    "- Use the provided `cur` and `conn` objects.\n",
    "- Run a copy statement that loads the `homeless_by_coc.csv` file into the `homeless_by_coc` table.\n",
    "    - Enclose the `COPY` by a start and end time, then print the `end_time`.\n",
    "- Delete all the rows in the `homeless_by_coc` table.\n",
    "- Create a double column index on `state`, `year` for `homeless_by_coc`.\n",
    "- Run another copy statement that loads the `homeless_by_coc.csv` file into the `homeless_by_coc` table.\n",
    "    - Enclose the `COPY` by a start and end time, then print the `end_time`."
   ]
  },
  {
   "cell_type": "markdown",
   "metadata": {
    "collapsed": true
   },
   "source": [
    "```python\n",
    "import time\n",
    "conn = psycopg2.connect(dbname=\"dq\", user=\"hud_admin\", password=\"abc123\")\n",
    "cur = conn.cursor()\n",
    "\n",
    "filename = 'homeless_by_coc.csv'\n",
    "\n",
    "start_time = time.time()\n",
    "with open(filename) as f:\n",
    "    statement = cur.mogrify('COPY %s FROM STDIN WITH CSV HEADER', (AsIs(filename.split('.')[0]), ))\n",
    "    cur.copy_expert(statement, f)\n",
    "print(time.time() - start_time)\n",
    "\n",
    "cur.execute(\"DELETE FROM homeless_by_coc\")\n",
    "cur.execute(\"CREATE INDEX state_year_idx ON homeless_by_coc(state, year)\")\n",
    "\n",
    "start_time = time.time()\n",
    "with open(filename) as f:\n",
    "    statemnet = cur.mogrify('COPY %s FROM STDIN WITH CSV HEADER', (AsIs(filename.split(',')[0]), ))\n",
    "    cur.copy_expert(statement, f)\n",
    "print(time.time() - start_time)\n",
    "```"
   ]
  },
  {
   "cell_type": "markdown",
   "metadata": {},
   "source": [
    "```\n",
    "[Output]\n",
    "0.5276072025299072\n",
    "1.3953590393066406\n",
    "```"
   ]
  },
  {
   "cell_type": "markdown",
   "metadata": {},
   "source": [
    "<b>5. </b>Instructions:\n",
    "- Use the provided `cur` and `conn` objects.\n",
    "- Create a double column index on `state`, `year` for `homeless_by_coc`.\n",
    "    - Add the descending order by option to `year`.\n",
    "- Commit the index.\n",
    "- Run a select on `homeless_by_coc`.\n",
    "    - Select distinct `year`.\n",
    "    - Filter by CA on the indexed `state` column.\n",
    "    - Filter years greater than `1991-01-01` on the order by indexed year column.\n",
    "- Call `fetchall()` and assign the return value to `ordered_years`\n",
    "- pretty print `ordered_years`."
   ]
  },
  {
   "cell_type": "markdown",
   "metadata": {},
   "source": [
    "```python\n",
    "conn = psycopg2.connect(dbname=\"dq\", user=\"hud_admin\", password=\"abc123\")\n",
    "cur = conn.cursor()\n",
    "\n",
    "cur.execute(\"DROP INDEX IF EXISTS state_year_idx\")\n",
    "conn.commit()\n",
    "\n",
    "cur.execute(\"CREATE INDEX state_year_idx ON homeless_by_coc(state, year ASC)\")\n",
    "conn.commit()\n",
    "\n",
    "cur.execute(\"SELECT DISTINCT year FROM homeless_by_coc WHERE state = 'CA' AND year > '1991-01-01'\")\n",
    "ordered_years = cur.fetchall()\n",
    "pp.pprint(ordered_years)\n",
    "```"
   ]
  },
  {
   "cell_type": "markdown",
   "metadata": {},
   "source": [
    "<b>6. </b>Instructions:\n",
    "- Use the provided `cur` and `conn` objects.\n",
    "- Create a case-insensitive expression index on measures for `homeless_by_coc`.\n",
    "- Commit the index.\n",
    "- Run a select all from `homeless_by_coc`.\n",
    "    - Filter `measures` to rows with `'unsheltered homeless people in families'`.\n",
    "    - Limit to 1 row.\n",
    "- Call `fetchone()` and assign the return value to `unsheltered_row`"
   ]
  },
  {
   "cell_type": "markdown",
   "metadata": {
    "collapsed": true
   },
   "source": [
    "```python\n",
    "conn = psycopg2.connect(dbname=\"dq\", user=\"hud_admin\", password=\"abc123\")\n",
    "cur = conn.cursor()\n",
    "\n",
    "cur.execute(\"CREATE INDEX measures_idx ON homeless_by_coc(lower(measures))\")\n",
    "conn.commit()\n",
    "\n",
    "cur.execute(\"SELECT * FROM homeless_by_coc WHERE lower(measures)='unsheltered homeless people in families'\")\n",
    "unsheltered_row = cur.fetchone()\n",
    "```"
   ]
  },
  {
   "cell_type": "markdown",
   "metadata": {},
   "source": [
    "```[Stored variable]\n",
    "tuple (<class 'tuple'>)\n",
    "(11,\n",
    " datetime.date(2007, 1, 1),\n",
    " 'AK',\n",
    " 'AK-500  ',\n",
    " 'Anchorage CoC',\n",
    " 'Unsheltered Homeless People in Families',\n",
    " 25)\n",
    "```"
   ]
  },
  {
   "cell_type": "markdown",
   "metadata": {},
   "source": [
    "<b>7. </b>Instructions:\n",
    "- Use the provided `cur` and `conn` objects.\n",
    "    - Create a partial index on `homeless_by_coc`.\n",
    "    - Index on the `state` column.\n",
    "- Restrict the index on all rows that have a count greater than 0.\n",
    "- Commit the index.\n",
    "- Run an `EXPLAIN ANALYZE` on a select all from `homeless_by_coc`.\n",
    "    - Filter `state` on CA and count greater than 0.\n",
    "    - Limit to 1 row.\n",
    "- Call `fetchall()` and pretty print the result. "
   ]
  },
  {
   "cell_type": "markdown",
   "metadata": {
    "collapsed": true
   },
   "source": [
    "```python\n",
    "conn = psycopg2.connect(dbname=\"dq\", user=\"hud_admin\", password=\"abc123\")\n",
    "cur = conn.cursor()\n",
    "cur.execute(\"CREATE INDEX idx ON homeless_by_coc(state) WHERE count > 0\")\n",
    "conn.commit()\n",
    "\n",
    "cur.execute(\"EXPLAIN ANALYZE SELECT * FROM homeless_by_coc WHERE state = 'CA' AND count > 0\")\n",
    "pp.pprint(cur.fetchall())\n",
    "```"
   ]
  },
  {
   "cell_type": "markdown",
   "metadata": {},
   "source": [
    "```\n",
    "[Output]\n",
    "[('Bitmap Heap Scan on homeless_by_coc  (cost=5.41..421.21 rows=144 '\n",
    "  'width=480) (actual time=0.959..2.327 rows=8096 loops=1)',),\n",
    " (\"  Recheck Cond: ((state = 'CA'::bpchar) AND (count > 0))\",),\n",
    " ('  Heap Blocks: exact=142',),\n",
    " ('  ->  Bitmap Index Scan on idx  (cost=0.00..5.37 rows=144 width=0) '\n",
    "  '(actual time=0.936..0.936 rows=8096 loops=1)',),\n",
    " (\"        Index Cond: (state = 'CA'::bpchar)\",),\n",
    " ('Planning time: 17.998 ms',),\n",
    " ('Execution time: 2.739 ms',)]\n",
    "```"
   ]
  },
  {
   "cell_type": "markdown",
   "metadata": {},
   "source": [
    "<b>8. </b>Instructions:\n",
    "- Use the provided cur and conn objects.\n",
    "- Create a multi-column index that speeds up the following query:\n",
    "    - `SELECT hbc.year, si.name, hbc.count FROM homeless_by_coc hbc, state_info si WHERE hbc.state = si.postal AND hbc.year > '2007-01-01' AND hbc.measures != 'total homeless'`\n",
    "- Run `EXPLAIN ANALYZE` on the query.\n",
    "- Call `.fetchall()` and pretty print the results."
   ]
  },
  {
   "cell_type": "markdown",
   "metadata": {
    "collapsed": true
   },
   "source": [
    "```\n",
    "python\n",
    "conn = psycopg2.connect(dbname=\"dq\", user=\"hud_admin\", password=\"abc123\")\n",
    "cur = conn.cursor()\n",
    "\n",
    "cur.execute(\"CREATE INDEX state_year_measures_idx ON homeless_by_coc(state, lower(measures)) WHERE year > '2007-01-01'\")\n",
    "conn.commit()\n",
    "cur.execute(\"\"\"\n",
    "EXPLAIN ANALYZE SELECT hbc.year, si.name, hbc.count\n",
    "FROM homeless_by_coc hbc, state_info si WHERE hbc.state = si.postal\n",
    "AND hbc.year > '2007-01-01' AND hbc.measures != 'total homeless'\n",
    "\"\"\")\n",
    "pp.pprint(cur.fetchall())\n",
    "```"
   ]
  },
  {
   "cell_type": "markdown",
   "metadata": {},
   "source": [
    "```\n",
    "[('Hash Join  (cost=21.25..5184.10 rows=71748 width=54) (actual '\n",
    "  'time=0.552..55.428 rows=80685 loops=1)',),\n",
    " ('  Hash Cond: (hbc.state = si.postal)',),\n",
    " ('  ->  Seq Scan on homeless_by_coc hbc  (cost=0.00..2579.93 rows=28699 '\n",
    "  'width=20) (actual time=0.509..18.605 rows=81705 loops=1)',),\n",
    " (\"        Filter: ((year > '2007-01-01'::date) AND ((measures)::text <> \"\n",
    "  \"'total homeless'::text))\",),\n",
    " ('        Rows Removed by Filter: 4824',),\n",
    " ('  ->  Hash  (cost=15.00..15.00 rows=500 width=58) (actual '\n",
    "  'time=0.023..0.023 rows=50 loops=1)',),\n",
    " ('        Buckets: 1024  Batches: 1  Memory Usage: 3kB',),\n",
    " ('        ->  Seq Scan on state_info si  (cost=0.00..15.00 rows=500 '\n",
    "  'width=58) (actual time=0.006..0.012 rows=50 loops=1)',),\n",
    " ('Planning time: 12.787 ms',),\n",
    " ('Execution time: 58.815 ms',)]\n",
    "```"
   ]
  }
 ],
 "metadata": {
  "anaconda-cloud": {},
  "kernelspec": {
   "display_name": "Python [conda root]",
   "language": "python",
   "name": "conda-root-py"
  },
  "language_info": {
   "codemirror_mode": {
    "name": "ipython",
    "version": 3
   },
   "file_extension": ".py",
   "mimetype": "text/x-python",
   "name": "python",
   "nbconvert_exporter": "python",
   "pygments_lexer": "ipython3",
   "version": "3.5.2"
  }
 },
 "nbformat": 4,
 "nbformat_minor": 2
}
