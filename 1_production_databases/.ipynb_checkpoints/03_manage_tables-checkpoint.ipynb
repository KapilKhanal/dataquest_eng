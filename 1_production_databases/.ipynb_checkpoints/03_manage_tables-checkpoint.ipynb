{
 "cells": [
  {
   "cell_type": "markdown",
   "metadata": {},
   "source": [
    "### These are exercises done as part of <a href = \"www.dataquest.io\"> DataQuest</a>'s Data Engineer Path\n",
    "This is not replicated for commercial use; strictly personal development.<br>\n",
    "All exercises are (c) DataQuest, with slight modifications so they use my PostGres server on my localhost"
   ]
  },
  {
   "cell_type": "markdown",
   "metadata": {},
   "source": [
    "> In the previous mission we learned about different datatypes, the benefit of a reduced table size, and how to guard against corrupted data. We also learned how to create a table from scratch and to use the proper datatypes for the data we would be loading in. Sometimes, though, we have to work with already created tables and somehow rework them with new requirements for our datasets.\n",
    ">\n",
    ">DataQuest"
   ]
  },
  {
   "cell_type": "markdown",
   "metadata": {},
   "source": [
    "#### Managing Tables Mission\n",
    "<b>1.  </b>Instructions:\n",
    "- Using the provided `cur` object, execute the `ALTER TABLE` query to rename the `old_ign_reviews` table to `ign_reviews`.\n",
    "- Commit your changes.\n",
    "- Execute the `SELECT` query from the example on the table `ign_reviews`.\n",
    "- Call `print()` on the `cur.description` variable."
   ]
  },
  {
   "cell_type": "markdown",
   "metadata": {},
   "source": [
    "<font color = 'blue'>Here I rename my table `vbstatic` to `staticvb`, and vice-versa, just for practice's sake. They are the same table."
   ]
  },
  {
   "cell_type": "code",
   "execution_count": 25,
   "metadata": {
    "collapsed": false
   },
   "outputs": [
    {
     "name": "stdout",
     "output_type": "stream",
     "text": [
      "(Column(name='index', type_code=20, display_size=None, internal_size=8, precision=None, scale=None, null_ok=None), Column(name='update', type_code=1114, display_size=None, internal_size=8, precision=None, scale=None, null_ok=None), Column(name='available', type_code=23, display_size=None, internal_size=4, precision=None, scale=None, null_ok=None), Column(name='free', type_code=23, display_size=None, internal_size=4, precision=None, scale=None, null_ok=None), Column(name='total', type_code=23, display_size=None, internal_size=4, precision=None, scale=None, null_ok=None), Column(name='name', type_code=1042, display_size=None, internal_size=55, precision=None, scale=None, null_ok=None), Column(name='long', type_code=700, display_size=None, internal_size=4, precision=None, scale=None, null_ok=None), Column(name='lat', type_code=700, display_size=None, internal_size=4, precision=None, scale=None, null_ok=None))\n"
     ]
    }
   ],
   "source": [
    "import psycopg2\n",
    "conn = psycopg2.connect(\"dbname=valenbisi2018 user=nmolivo\")\n",
    "cur = conn.cursor()\n",
    "cur.execute('ALTER TABLE vbstatic RENAME TO staticvb')\n",
    "conn.commit()\n",
    "cur.execute('SELECT * FROM staticvb LIMIT 0')\n",
    "print(cur.description)\n",
    "conn.close()"
   ]
  },
  {
   "cell_type": "markdown",
   "metadata": {},
   "source": [
    "<font color = 'blue'>I do not wish to <b>delete variables</b> from my table at this time so this will be an example of how it would be done, using DataQuest's db.</font><br><br>\n",
    "<b>2.  </b>Instructions:\n",
    "- Use the provided `cur` object.\n",
    "- Drop the redundant column `full_url` from `ign_reviews`.\n",
    "- Commit your changes using the `conn` object."
   ]
  },
  {
   "cell_type": "markdown",
   "metadata": {},
   "source": [
    "```python\n",
    "conn = psycopg2.connect(\"dbname=dq user=dq\")\n",
    "cur = conn.cursor()\n",
    "cur.execute('ALTER TABLE ign_reviews DROP COLUMN full_url')\n",
    "conn.commit()\n",
    "```"
   ]
  },
  {
   "cell_type": "markdown",
   "metadata": {},
   "source": [
    "<font color = 'blue'>I do not wish to <b>change datatypes</b> in my table at this time so this will be an example of how it would be done, using DataQuest's db.</font><br><br>\n",
    "<b>3.  </b>Instructions:\n",
    "- Use the provided `cur` object.\n",
    "- Change the column type of `id` to `BIGINT` for `ign_reviews`.\n",
    "- Commit your changes using the `conn` object."
   ]
  },
  {
   "cell_type": "markdown",
   "metadata": {},
   "source": [
    "```python\n",
    "conn = psycopg2.connect(\"dbname=dq user=dq\")\n",
    "cur = conn.cursor()\n",
    "cur.execute('ALTER TABLE ign_reviews ALTER COLUMN id TYPE BIGINT')\n",
    "conn.commit()\n",
    "```"
   ]
  },
  {
   "cell_type": "markdown",
   "metadata": {},
   "source": [
    "<font color = 'blue'>I do not wish to <b>rename variables</b> in my table at this time so this will be an example of how it would be done, using DataQuest's db.</font><br><br>\n",
    "<b>4.  </b>Instructions:\n",
    "- Use the provided `cur` object.\n",
    "- Change the column name of `title_of_game_review` to `title` for `ign_reviews`.\n",
    "- Commit your changes using the `conn` object."
   ]
  },
  {
   "cell_type": "markdown",
   "metadata": {},
   "source": [
    "```python\n",
    "conn = psycopg2.connect(\"dbname=dq user=dq\")\n",
    "cur = conn.cursor()\n",
    "cur.execute('ALTER TABLE ign_reviews RENAME COLUMN title_of_game_review TO title')\n",
    "conn.commit()\n",
    "```"
   ]
  },
  {
   "cell_type": "markdown",
   "metadata": {},
   "source": [
    "<font color = 'blue'>I do not wish to <b>create new variables</b> in my table at this time so this will be an example of how it would be done, using DataQuest's db.</font><br><br>\n",
    "<b>5.  </b>Instructions:\n",
    "- Use the provided `cur` object.\n",
    "- Add the the `release_date` column with the proper datatype.\n",
    "- Commit your changes using the `conn` object."
   ]
  },
  {
   "cell_type": "markdown",
   "metadata": {},
   "source": [
    "``` python\n",
    "conn = psycopg2.connect(\"dbname=dq user=dq\")\n",
    "cur = conn.cursor()\n",
    "cur.execute('ALTER TABLE ign_reviews ADD COLUMN release_date DATE')\n",
    "conn.commit()\n",
    "```\n",
    "<font color = 'blue'> This will create variable `release_date` populated with all null values.</font>"
   ]
  },
  {
   "cell_type": "markdown",
   "metadata": {},
   "source": [
    "> -- Default each entry to Jan 1st, 1991.<Br>\n",
    "> `ALTER TABLE ign_reviews ADD COLUMN release_date DATE DEFAULT 01-01-1991`\n",
    ">\n",
    "> DataQuest"
   ]
  },
  {
   "cell_type": "markdown",
   "metadata": {},
   "source": [
    "<font color = 'blue'>I do not wish to <b>populate our new variable with information from other variables</b> in my table at this time so this will be an example of how it would be done, using DataQuest's db.</font><br><br>\n",
    "<b>6.  </b>Instructions:\n",
    "- Use the provided `cur` object.\n",
    "- Update the `release_date` column for `ign_reviews` using `UPDATE` and for every entry:\n",
    "- Insert the combination of the columns `release_day`, `release_month`, `release_year`.\n",
    "- Use the string merger to create the date-like string with the corresponding date format representation.\n",
    "- Use the `to_date()` function to create the date objects for the column.\n",
    "- Commit your changes using the `conn` object."
   ]
  },
  {
   "cell_type": "markdown",
   "metadata": {},
   "source": [
    "<font color = 'blue'> || is the SQL version of python's +, used to concatenate. "
   ]
  },
  {
   "cell_type": "markdown",
   "metadata": {},
   "source": [
    "```python\n",
    "conn = psycopg2.connect(\"dbname=dq user=dq\")\n",
    "cur = conn.cursor()\n",
    "cur.execute(\"UPDATE ign_reviews SET release_date = to_date(release_day || '-' || release_month || '-' || release_year, 'DD-MM-YYYY')\")\n",
    "conn.commit()\n",
    "```"
   ]
  },
  {
   "cell_type": "markdown",
   "metadata": {},
   "source": [
    "<font color = 'blue'>I do not wish to <b>delete variables</b> from my table at this time so this will be an example of how it would be done, using DataQuest's db.</font><br><br>\n",
    "<b>7.  </b>Instructions:\n",
    "\n",
    "- Use the provided `cur` object.\n",
    "- Using `ALTER TABLE` with `DROP COLUMN` to drop the `release_day`, `release_month`, and `release_year` redundant columns.\n",
    "- Commit your changes using the `conn` object."
   ]
  },
  {
   "cell_type": "markdown",
   "metadata": {},
   "source": [
    "<font color = 'blue'>You can only drop one column per statement, so this will take a few lines.</font>"
   ]
  },
  {
   "cell_type": "markdown",
   "metadata": {},
   "source": [
    "```python\n",
    "conn = psycopg2.connect(\"dbname=dq user=dq\")\n",
    "cur = conn.cursor()\n",
    "cur.execute('ALTER TABLE ign_reviews DROP COLUMN release_day')\n",
    "cur.execute('ALTER TABLE ign_reviews DROP COLUMN release_month')\n",
    "cur.execute('ALTER TABLE ign_reviews DROP COLUMN release_year')\n",
    "conn.commit()\n",
    "```"
   ]
  }
 ],
 "metadata": {
  "anaconda-cloud": {},
  "kernelspec": {
   "display_name": "Python [conda root]",
   "language": "python",
   "name": "conda-root-py"
  },
  "language_info": {
   "codemirror_mode": {
    "name": "ipython",
    "version": 3
   },
   "file_extension": ".py",
   "mimetype": "text/x-python",
   "name": "python",
   "nbconvert_exporter": "python",
   "pygments_lexer": "ipython3",
   "version": "3.5.2"
  }
 },
 "nbformat": 4,
 "nbformat_minor": 2
}
